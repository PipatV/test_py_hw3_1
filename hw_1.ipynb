{
 "cells": [
  {
   "attachments": {},
   "cell_type": "markdown",
   "metadata": {},
   "source": [
    "#นำเข้า Lib"
   ]
  },
  {
   "cell_type": "code",
   "execution_count": 2,
   "metadata": {},
   "outputs": [],
   "source": [
    "import pandas as pd\n",
    "import matplotlib.pyplot as plt\n",
    "import numpy as np\n"
   ]
  },
  {
   "attachments": {},
   "cell_type": "markdown",
   "metadata": {},
   "source": [
    "#อ่านไฟล์"
   ]
  },
  {
   "cell_type": "code",
   "execution_count": 3,
   "metadata": {},
   "outputs": [],
   "source": [
    "df = pd.read_excel(\"week02_workshop.xlsx\")"
   ]
  },
  {
   "attachments": {},
   "cell_type": "markdown",
   "metadata": {},
   "source": [
    "#สร้างที่เก็บ"
   ]
  },
  {
   "cell_type": "code",
   "execution_count": 4,
   "metadata": {},
   "outputs": [],
   "source": [
    "name_arry = {}\n",
    "last_name = {}"
   ]
  },
  {
   "attachments": {},
   "cell_type": "markdown",
   "metadata": {},
   "source": [
    "#เอาชื่อและนามสกุล"
   ]
  },
  {
   "cell_type": "code",
   "execution_count": 6,
   "metadata": {},
   "outputs": [],
   "source": [
    "df_name = df.ชื่อ\n",
    "df_lastname = df.นามสกุล"
   ]
  },
  {
   "attachments": {},
   "cell_type": "markdown",
   "metadata": {},
   "source": [
    "#ฟังชั่น bio ของชื่อ"
   ]
  },
  {
   "cell_type": "code",
   "execution_count": 8,
   "metadata": {},
   "outputs": [],
   "source": [
    "def bio(j):\n",
    "    for i in range(len(j)-1):\n",
    "        arr_name = j[i:i+2]\n",
    "        if arr_name in name_arry.keys():\n",
    "            name_arry[arr_name] = name_arry[arr_name]+1\n",
    "        else:\n",
    "            name_arry[arr_name] = 1\n",
    "        return(name_arry)"
   ]
  },
  {
   "attachments": {},
   "cell_type": "markdown",
   "metadata": {},
   "source": [
    "#ใส่ไว่ในตัวแปร"
   ]
  },
  {
   "cell_type": "code",
   "execution_count": 9,
   "metadata": {},
   "outputs": [],
   "source": [
    "name_loop = df_name"
   ]
  },
  {
   "cell_type": "code",
   "execution_count": 10,
   "metadata": {},
   "outputs": [],
   "source": [
    "last_loop = df_lastname"
   ]
  },
  {
   "attachments": {},
   "cell_type": "markdown",
   "metadata": {},
   "source": [
    "#ลูปข้อมูลใช้งานฟังชั่น"
   ]
  },
  {
   "cell_type": "code",
   "execution_count": 11,
   "metadata": {},
   "outputs": [],
   "source": [
    "for i in name_loop:\n",
    "    bio_name = bio(i.lower())"
   ]
  },
  {
   "cell_type": "code",
   "execution_count": 12,
   "metadata": {},
   "outputs": [
    {
     "name": "stdout",
     "output_type": "stream",
     "text": [
      "{'am': 1, 'an': 4, 'ar': 1, 'bh': 1, 'bo': 1, 'ch': 5, 'ka': 8, 'ke': 1, 'kh': 1, 'kr': 3, 'la': 1, 'me': 2, 'na': 5, 'ni': 2, 'no': 1, 'pa': 5, 'pe': 1, 'ph': 1, 'pi': 3, 'pu': 2, 'ra': 1, 'sa': 4, 'si': 1, 'su': 5, 'ta': 1, 'th': 2, 'ti': 1, 'tu': 1, 'vo': 1, 'yu': 1, 'กฤ': 1, 'ภเ': 1, 'กั': 1, 'กิ': 1, 'กี': 1, 'คม': 1, 'ฉั': 1, 'ชว': 1, 'ชา': 4, 'โช': 1, 'ณั': 1, 'ติ': 1, 'ทิ': 1, 'ธน': 3, 'ธั': 2, 'ธิ': 1, 'นภ': 2, 'นั': 1, 'นิ': 1, 'ปณ': 1, 'ปร': 2, 'เผ': 1, 'พิ': 3, 'พี': 2, 'ภค': 1, 'ภร': 1, 'ภู': 1, 'รั': 1, 'รุ': 1, 'วร': 3, 'วส': 1, 'วั': 1, 'ศร': 1, 'ศศ': 1, 'ศั': 1, 'ศิ': 1, 'ศุ': 1, 'สร': 1, 'สะ': 1, 'สิ': 2, 'สุ': 1, 'อภ': 1, 'อา': 1, 'อิ': 1, 'อุ': 2, 'เอ': 1, 'po': 1, 'จต': 1}\n"
     ]
    }
   ],
   "source": [
    "print(bio_name)"
   ]
  },
  {
   "attachments": {},
   "cell_type": "markdown",
   "metadata": {},
   "source": [
    "#เอาค่ามากที่สุดของชื่อ"
   ]
  },
  {
   "cell_type": "code",
   "execution_count": 13,
   "metadata": {},
   "outputs": [],
   "source": [
    "max_bio_name = max(bio_name, key=bio_name.get)\n",
    "max_bio_name_count = max(bio_name.values())"
   ]
  },
  {
   "cell_type": "code",
   "execution_count": 14,
   "metadata": {},
   "outputs": [
    {
     "name": "stdout",
     "output_type": "stream",
     "text": [
      "ka\n",
      "8\n"
     ]
    }
   ],
   "source": [
    "print(max_bio_name)\n",
    "print(max_bio_name_count)"
   ]
  },
  {
   "cell_type": "markdown",
   "metadata": {},
   "source": [
    "#ฟังชั่น bio ของนามสกุล"
   ]
  },
  {
   "cell_type": "code",
   "execution_count": 15,
   "metadata": {},
   "outputs": [],
   "source": [
    "def bio_last_f(q):\n",
    "    for i in range(len(q)-1):\n",
    "        name_last = q[i:i+2]\n",
    "        if name_last in last_name.keys():\n",
    "            last_name[name_last] = last_name[name_last] +1\n",
    "        else:\n",
    "            last_name[name_last] = 1\n",
    "        return(last_name)"
   ]
  },
  {
   "attachments": {},
   "cell_type": "markdown",
   "metadata": {},
   "source": [
    "#ลูปเพื่อใช้งานฟังชั่น"
   ]
  },
  {
   "cell_type": "code",
   "execution_count": 16,
   "metadata": {},
   "outputs": [],
   "source": [
    "for k in last_loop:\n",
    "    bio_last = bio_last_f(k.lower())"
   ]
  },
  {
   "cell_type": "code",
   "execution_count": 17,
   "metadata": {},
   "outputs": [
    {
     "name": "stdout",
     "output_type": "stream",
     "text": [
      "{'ra': 2, 'ko': 3, 'ub': 1, 'ta': 1, 'ba': 1, 'ha': 1, 'th': 3, 'ph': 3, 'ch': 7, 'sa': 5, 'su': 4, 'ji': 2, 'di': 1, 'li': 1, 'ku': 3, 'no': 1, 'ru': 1, 'bu': 2, 'pa': 3, 'wu': 1, 'sr': 2, 'wa': 1, 'ja': 3, 'ju': 2, 'na': 1, 'wo': 1, 'ma': 2, 'yo': 1, 'pi': 2, 'po': 1, 'kh': 1, 'to': 1, 'se': 1, 'da': 1, 'so': 1, 'ka': 1, 'ปิ': 2, 'โส': 1, 'เค': 1, 'เร': 1, 'เต': 1, 'สว': 3, 'นา': 3, 'สร': 1, 'วร': 3, 'พล': 1, 'ทอ': 1, 'ตั': 1, 'คง': 2, 'กา': 1, 'ืท': 1, 'จา': 1, 'นิ': 1, 'ศร': 2, 'ตร': 1, 'ลั': 1, 'ศิ': 1, 'พน': 1, 'ลล': 1, 'จิ': 1, 'สุ': 1, 'พร': 2, 'เช': 1, 'เพ': 1, 'วิ': 1, 'ปุ': 1, 'หอ': 1, 'รั': 2, 'ดี': 1, 'ฐา': 1, 'เอ': 1, 'สถ': 1, 'บุ': 1, 'วง': 1, 'โอ': 2, 'เบ': 1, 'พั': 1, 'สิ': 2, 'จั': 1, 'ตะ': 1, 'คม': 1, 'มะ': 1, 'พู': 1, 'เท': 1, 'วั': 1}\n"
     ]
    }
   ],
   "source": [
    "print(bio_last)"
   ]
  },
  {
   "attachments": {},
   "cell_type": "markdown",
   "metadata": {},
   "source": [
    "#หาค่ามากที่สุดของนามสกุล"
   ]
  },
  {
   "cell_type": "code",
   "execution_count": 18,
   "metadata": {},
   "outputs": [],
   "source": [
    "max_bio_last = max(bio_last,key=bio_last.get)\n",
    "max_bio_last_count =max(bio_last.values())"
   ]
  },
  {
   "cell_type": "code",
   "execution_count": 19,
   "metadata": {},
   "outputs": [
    {
     "name": "stdout",
     "output_type": "stream",
     "text": [
      "ch\n",
      "7\n"
     ]
    }
   ],
   "source": [
    "print(max_bio_last)\n",
    "print(max_bio_last_count)"
   ]
  },
  {
   "cell_type": "code",
   "execution_count": 20,
   "metadata": {},
   "outputs": [
    {
     "name": "stdout",
     "output_type": "stream",
     "text": [
      "<class 'str'>\n",
      "<class 'int'>\n"
     ]
    }
   ],
   "source": [
    "print(type(max_bio_last))\n",
    "print(type(max_bio_last_count))"
   ]
  },
  {
   "attachments": {},
   "cell_type": "markdown",
   "metadata": {},
   "source": [
    "#สร้างตัวแปร x กับ y ไว้ใช้ plot"
   ]
  },
  {
   "cell_type": "code",
   "execution_count": 21,
   "metadata": {},
   "outputs": [],
   "source": [
    "x = np.array([max_bio_name,max_bio_last])"
   ]
  },
  {
   "cell_type": "code",
   "execution_count": 22,
   "metadata": {},
   "outputs": [],
   "source": [
    "y = np.array([max_bio_name_count,max_bio_last_count])"
   ]
  },
  {
   "attachments": {},
   "cell_type": "markdown",
   "metadata": {},
   "source": [
    "#plot กราฟ"
   ]
  },
  {
   "cell_type": "code",
   "execution_count": 27,
   "metadata": {},
   "outputs": [
    {
     "data": {
      "image/png": "[encoded data removed]",
      "text/plain": [
       "<Figure size 640x480 with 1 Axes>"
      ]
     },
     "metadata": {},
     "output_type": "display_data"
    }
   ],
   "source": [
    "plt.bar(x,y,color =\"hotpink\")\n",
    "plt.title(\"จำนวนตัวอักษรที่พบมากที่สุด\",fontname='Tahoma',fontsize=13)\n",
    "plt.xlabel(\"แสดง bio ของชื่อและนามสกุล\",fontname='Tahoma',fontsize=13)\n",
    "plt.ylabel(\"จำนวน bio ซ้ำกัน\",fontname='Tahoma',fontsize=13)\n",
    "plt.show()"
   ]
  },
  {
   "cell_type": "code",
   "execution_count": null,
   "metadata": {},
   "outputs": [],
   "source": []
  }
 ],
 "metadata": {
  "kernelspec": {
   "display_name": "Python 3",
   "language": "python",
   "name": "python3"
  },
  "language_info": {
   "codemirror_mode": {
    "name": "ipython",
    "version": 3
   },
   "file_extension": ".py",
   "mimetype": "text/x-python",
   "name": "python",
   "nbconvert_exporter": "python",
   "pygments_lexer": "ipython3",
   "version": "3.10.6"
  },
  "orig_nbformat": 4,
  "vscode": {
   "interpreter": {
    "hash": "aee8b7b246df8f9039afb4144a1f6fd8d2ca17a180786b69acc140d282b71a49"
   }
  }
 },
 "nbformat": 4,
 "nbformat_minor": 2
}
